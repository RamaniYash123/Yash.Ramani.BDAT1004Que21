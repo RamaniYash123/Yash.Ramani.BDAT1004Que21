{
 "cells": [
  {
   "cell_type": "markdown",
   "id": "666ce96f",
   "metadata": {},
   "source": [
    "### In a jupyter notebook solve the following question. Please upload the notebook to GitHub and provide the link submission box below.\n",
    "\n",
    " \n",
    "\n",
    "* __int()__: Constructor that takes as input a pair of Point objects that represent the ends points of the line segment\n",
    "\n",
    "* Length():: returns the length if the segment \n",
    "\n",
    "* Slope() returns the slope of the segment of none if the slope is unbounded \n"
   ]
  },
  {
   "cell_type": "code",
   "execution_count": 6,
   "id": "fbee2bb5",
   "metadata": {},
   "outputs": [
    {
     "name": "stdout",
     "output_type": "stream",
     "text": [
      "Segment's Length:---> 2.5\n",
      "Segment's Slope:---> 0.75\n"
     ]
    }
   ],
   "source": [
    "#Class Point \n",
    "class Point:\n",
    "    def __init__(self, x=0, y=0):\n",
    "        self.x = x\n",
    "        self.y = y\n",
    "\n",
    "# Class Segment\n",
    "class Segment:\n",
    "    # intialize point 1 and point 2\n",
    "    def __init__(self, point1, point2):\n",
    "        self.p1 = point1\n",
    "        self.p2 = point2\n",
    "    \n",
    "    #calculate length\n",
    "    def length(self):\n",
    "        length = ((self.p2.x - self.p1.x)**2 + (self.p2.y - self.p1.y)**2)**0.5\n",
    "        return length\n",
    "    \n",
    "    #calculate clope\n",
    "    def slope(self):\n",
    "        if (self.p2.x - self.p1.x) != 0:\n",
    "            slope = (self.p2.y - self.p1.y) / (self.p2.x - self.p1.x)\n",
    "            return slope\n",
    "        else:\n",
    "            return None  # slope is unbounded\n",
    "\n",
    "# Example usage:\n",
    "p1 = Point(3, 4)\n",
    "p2 = Point(1, 2.5)  # Defaults to (0, 0)\n",
    "s = Segment(p1, p2)\n",
    "\n",
    "print(\"Segment's Length:--->\", s.length())\n",
    "print(\"Segment's Slope:--->\", s.slope())\n"
   ]
  },
  {
   "cell_type": "code",
   "execution_count": null,
   "id": "655ceefb",
   "metadata": {},
   "outputs": [],
   "source": []
  }
 ],
 "metadata": {
  "kernelspec": {
   "display_name": "Python 3 (ipykernel)",
   "language": "python",
   "name": "python3"
  },
  "language_info": {
   "codemirror_mode": {
    "name": "ipython",
    "version": 3
   },
   "file_extension": ".py",
   "mimetype": "text/x-python",
   "name": "python",
   "nbconvert_exporter": "python",
   "pygments_lexer": "ipython3",
   "version": "3.10.9"
  }
 },
 "nbformat": 4,
 "nbformat_minor": 5
}
